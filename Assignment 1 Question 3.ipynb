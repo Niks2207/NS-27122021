{
 "cells": [
  {
   "cell_type": "markdown",
   "id": "f555a007",
   "metadata": {},
   "source": [
    "\n",
    "# Question-3\n"
   ]
  },
  {
   "cell_type": "code",
   "execution_count": 14,
   "id": "265d1143",
   "metadata": {
    "scrolled": true
   },
   "outputs": [
    {
     "name": "stdout",
     "output_type": "stream",
     "text": [
      "enter start point of the series:-1\n",
      "entere the last no. of the series:-100\n",
      "total No. of even no.s ia :-  49\n",
      "total no of odd no.s is :- 50\n"
     ]
    }
   ],
   "source": [
    "n1=int(input(\"enter start point of the series:-\"))\n",
    "n2=int(input(\"entere the last no. of the series:-\"))\n",
    "count=0\n",
    "count1=0\n",
    "for i in range(n1,n2):\n",
    "    if i%2==0:\n",
    "        count=count+1\n",
    "    else:\n",
    "        count1=count1+1\n",
    "print(\"total No. of even no.s ia :- \",count)\n",
    "print(\"total no of odd no.s is :-\",count1)"
   ]
  },
  {
   "cell_type": "code",
   "execution_count": null,
   "id": "a2e41c32",
   "metadata": {},
   "outputs": [],
   "source": [
    "  "
   ]
  }
 ],
 "metadata": {
  "kernelspec": {
   "display_name": "Python 3 (ipykernel)",
   "language": "python",
   "name": "python3"
  },
  "language_info": {
   "codemirror_mode": {
    "name": "ipython",
    "version": 3
   },
   "file_extension": ".py",
   "mimetype": "text/x-python",
   "name": "python",
   "nbconvert_exporter": "python",
   "pygments_lexer": "ipython3",
   "version": "3.10.1"
  }
 },
 "nbformat": 4,
 "nbformat_minor": 5
}
