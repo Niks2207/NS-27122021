{
 "cells": [
  {
   "cell_type": "markdown",
   "id": "d8966070",
   "metadata": {},
   "source": [
    "##Question"
   ]
  },
  {
   "cell_type": "markdown",
   "id": "dbc1098e",
   "metadata": {},
   "source": [
    "###Question 1"
   ]
  },
  {
   "cell_type": "code",
   "execution_count": 34,
   "id": "845be849",
   "metadata": {},
   "outputs": [
    {
     "name": "stdout",
     "output_type": "stream",
     "text": [
      "enter the total no of element in series :- 10\n",
      "[0, 1, 1, 2, 3, 5, 8, 13, 21, 34]\n"
     ]
    }
   ],
   "source": [
    "n = int(input(\"enter the total no of element in series :- \"))\n",
    "\n",
    "s = [0,1]\n",
    "if n>=2:\n",
    "    for i in range(2,n):\n",
    "        a = s[i-1] + s[i-2]\n",
    "        s.append(a)\n",
    "print(s)"
   ]
  },
  {
   "cell_type": "markdown",
   "id": "317f30c3",
   "metadata": {},
   "source": []
  }
 ],
 "metadata": {
  "kernelspec": {
   "display_name": "Python 3 (ipykernel)",
   "language": "python",
   "name": "python3"
  },
  "language_info": {
   "codemirror_mode": {
    "name": "ipython",
    "version": 3
   },
   "file_extension": ".py",
   "mimetype": "text/x-python",
   "name": "python",
   "nbconvert_exporter": "python",
   "pygments_lexer": "ipython3",
   "version": "3.10.1"
  }
 },
 "nbformat": 4,
 "nbformat_minor": 5
}
