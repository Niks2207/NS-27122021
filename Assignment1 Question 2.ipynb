{
 "cells": [
  {
   "cell_type": "markdown",
   "id": "dc1c9db3",
   "metadata": {},
   "source": [
    "# Question-2"
   ]
  },
  {
   "cell_type": "code",
   "execution_count": 12,
   "id": "9f949a07",
   "metadata": {},
   "outputs": [
    {
     "name": "stdout",
     "output_type": "stream",
     "text": [
      "enter any name to be mirrored:- Edyoda\n",
      "The reverse string is adoydE\n"
     ]
    }
   ],
   "source": [
    "string1=str(input(\"enter any name to be mirrored:- \"))\n",
    "\n",
    "string2 = \"\"\n",
    "for i in string1:  \n",
    "    string2 = i + string2  \n",
    "\n",
    "print(\"The reverse string is\",string2)\n",
    "\n"
   ]
  }
 ],
 "metadata": {
  "kernelspec": {
   "display_name": "Python 3 (ipykernel)",
   "language": "python",
   "name": "python3"
  },
  "language_info": {
   "codemirror_mode": {
    "name": "ipython",
    "version": 3
   },
   "file_extension": ".py",
   "mimetype": "text/x-python",
   "name": "python",
   "nbconvert_exporter": "python",
   "pygments_lexer": "ipython3",
   "version": "3.10.1"
  }
 },
 "nbformat": 4,
 "nbformat_minor": 5
}
